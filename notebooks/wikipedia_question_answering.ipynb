{
 "cells": [
  {
   "cell_type": "markdown",
   "id": "3e3cdc1c-8dd1-4bf7-bb63-a6d456a34700",
   "metadata": {},
   "source": [
    "# Wikipedia Question Answering"
   ]
  },
  {
   "cell_type": "code",
   "execution_count": 12,
   "id": "fb06e96b-17d5-4045-b31a-6be9c28a1757",
   "metadata": {},
   "outputs": [],
   "source": [
    "import os\n",
    "import json\n",
    "\n",
    "import wikipedia\n",
    "\n",
    "from langchain.tools import WikipediaQueryRun\n",
    "from langchain.utilities import WikipediaAPIWrapper\n",
    "from openai import OpenAI\n",
    "\n",
    "EMBEDDING_MODEL = \"text-embedding-ada-002\"\n",
    "GPT_MODEL = \"gpt-4\""
   ]
  },
  {
   "cell_type": "code",
   "execution_count": 17,
   "id": "136fb9e7-04da-421b-904a-71369f2bee0d",
   "metadata": {},
   "outputs": [],
   "source": [
    "client = OpenAI(\n",
    "    api_key=\"mabeleda\",\n",
    "    base_url=\"http://openai-api-proxy.discovery:8888/v1\",\n",
    ")\n",
    "wikipedia = WikipediaQueryRun(api_wrapper=WikipediaAPIWrapper())"
   ]
  },
  {
   "cell_type": "code",
   "execution_count": 8,
   "id": "b8f22f2e-af33-45c7-a5a7-c0bf241899f2",
   "metadata": {},
   "outputs": [],
   "source": [
    "# query = \"How many goals did Lionel Messi score in the 2008/09 season?\""
   ]
  },
  {
   "cell_type": "code",
   "execution_count": 29,
   "id": "2ac348f7-eb2d-44f9-8379-78d688a378c2",
   "metadata": {},
   "outputs": [],
   "source": [
    "query = \"How did the Roman Empire fall?\""
   ]
  },
  {
   "cell_type": "code",
   "execution_count": 57,
   "id": "b39330c3-a866-4aa2-b542-398825058259",
   "metadata": {},
   "outputs": [],
   "source": [
    "query = \"Can you summarize the investing thesis for Tesla?\""
   ]
  },
  {
   "cell_type": "code",
   "execution_count": 58,
   "id": "bdfcb5f6-4597-4521-9302-acf7121b74ec",
   "metadata": {},
   "outputs": [
    {
     "name": "stdout",
     "output_type": "stream",
     "text": [
      "\n",
      "Given the following query, generate a set of 3 searches for Wikipedia which are most likely to find this information.\n",
      "Return your search terms as a json blob with the attribute 'search_terms' which is a list of the search terms to use.\n",
      "Ensure your query terms are different enough to search a wide variety of pages.\n",
      "\n",
      "Query: Can you summarize the investing thesis for Tesla?\n",
      "\n"
     ]
    },
    {
     "data": {
      "text/plain": [
       "['Tesla company investment analysis',\n",
       " 'Tesla stock market performance',\n",
       " 'Elon Musk business strategy']"
      ]
     },
     "execution_count": 58,
     "metadata": {},
     "output_type": "execute_result"
    }
   ],
   "source": [
    "message = f\"\"\"\n",
    "Given the following query, generate a set of 3 searches for Wikipedia which are most likely to find this information.\n",
    "Return your search terms as a json blob with the attribute 'search_terms' which is a list of the search terms to use.\n",
    "Ensure your query terms are different enough to search a wide variety of pages.\n",
    "\n",
    "Query: {query}\n",
    "\"\"\"\n",
    "print(message)\n",
    "messages = [\n",
    "    {\n",
    "        \"role\": \"system\",\n",
    "        \"content\": \"You generate search terms to query from Wikipedia.\",\n",
    "    },\n",
    "    {\"role\": \"user\", \"content\": message},\n",
    "]\n",
    "completion = client.chat.completions.create(\n",
    "    model=GPT_MODEL,\n",
    "    messages=messages,\n",
    "    temperature=0,\n",
    ")\n",
    "\n",
    "queries = json.loads(completion.choices[0].message.content)\n",
    "queries[\"search_terms\"]"
   ]
  },
  {
   "cell_type": "code",
   "execution_count": 59,
   "id": "48d6c79c-2087-4ab6-bf7c-eb7d3ad38c22",
   "metadata": {},
   "outputs": [],
   "source": [
    "results = []\n",
    "for search in queries['search_terms']:\n",
    "    results.append(wikipedia.run(search))\n",
    "articles = '\\n'.join(results)"
   ]
  },
  {
   "cell_type": "code",
   "execution_count": 60,
   "id": "d193cc17-5acb-4d9e-afd1-4a5a85cfbb47",
   "metadata": {},
   "outputs": [
    {
     "name": "stdout",
     "output_type": "stream",
     "text": [
      "\n",
      "Articles:\n",
      "\n",
      "Page: Tesla, Inc.\n",
      "Summary: Tesla, Inc. ( TESS-lə or  TEZ-lə) is an American multinational automotive and clean energy company headquartered in Austin, Texas, which designs and manufactures electric vehicles (cars and trucks), stationary battery energy storage devices from home to grid-scale, solar panels and solar shingles, and related products and services. Its subsidiary Tesla Energy develops and is a major installer of photovoltaic systems in the United States and is one of the largest global suppliers of battery energy storage systems with 6.5 gigawatt-hours (GWh) installed in 2022.\n",
      "Tesla is one of the world's most valuable companies and, as of 2023, is the world's most valuable automaker. In 2022, the company led the battery electric vehicle market, with 18% share.\n",
      "Tesla was incorporated in July 2003 by Martin Eberhard and Marc Tarpenning as Tesla Motors. The company's name is a tribute to inventor and electrical engineer Nikola Tesla. In February 2004, via a $6.5 million investment, Elon Musk became the company's largest shareholder. He became CEO in 2008. Tesla's announced mission is to create products which help \"accelerate the world’s transition to sustainable energy.\"\n",
      "The company began production of its first car model, the Roadster sports car, in 2008. This was followed by the Model S sedan in 2012, the Model X SUV in 2015, the Model 3 sedan in 2017, the Model Y crossover in 2020, the Tesla Semi truck in 2022 and the Cybertruck light-duty pickup truck in 2023. The Model 3 is the all-time bestselling plug-in electric car worldwide, and in June 2021 became the first electric car to sell 1 million units globally. Tesla's 2022 deliveries were around 1.31 million vehicles, a 40% increase over the previous year, and cumulative sales totaled 4 million cars as of April 2023. In October 2021, Tesla's market capitalization temporarily reached $1 trillion, the sixth company to do so in U.S. history.\n",
      "Tesla has been the subject of lawsuits, government scrutiny, and journalistic criticism, stemming from allegations of whistleblower retaliation, worker rights violations, product defects, and Musk's many controversial statements.\n",
      "\n",
      "Page: History of Tesla, Inc.\n",
      "Summary: This is the corporate history of Tesla, Inc., an electric vehicle manufacturer and clean energy company founded in San Carlos, California in 2003 by American entrepreneurs Martin Eberhard and Marc Tarpenning. The company is named after Serbian-American inventor Nikola Tesla. Tesla is the world's leading electric vehicle manufacturer, and, as of the end of 2021, Tesla's cumulative global vehicle sales totaled 2.3 million units.\n",
      "\n",
      "Page: Tesla Autopilot\n",
      "Summary: Tesla Autopilot is an advanced driver-assistance system (ADAS) developed by Tesla that amounts to partial vehicle automation (Level 2 automation, as defined by SAE International). Tesla provides \"Base Autopilot\" on all vehicles, which includes lane centering and traffic-aware cruise control. Owners may purchase an upgrade to \"Enhanced Autopilot\" (EA) which adds semi-autonomous navigation on limited access roadways, self-parking, and the ability to summon the car from a garage or parking spot. The company claims the features reduce accidents caused by driver negligence and fatigue from long-term driving. Collisions and deaths involving Tesla cars with Autopilot engaged have drawn the attention of the press and government agencies.Full Self-Driving (FSD) is Tesla's branding for its beta testing program to achieve fully autonomous driving (SAE Level 5). The naming is controversial, because vehicles operating under FSD remain at Level 2 automation and are therefore not \"fully self-driving\" and require active driver supervision. FSD adds semi-autonomous navigation on city streets and the ability to respond to visible traffic lights or stop sign. As of February 2023, Tesla has about 360,000 participants in the FSD program. Industry observers and academics have criticized Tesla's decision to use untrained consumers to va\n",
      "Page: Tesla Cybertruck\n",
      "Summary: The Tesla Cybertruck is a battery electric full-size pickup truck built by Tesla, Inc. First announced in November 2019, pilot production began in July 2023, with deliveries planned to start on November 30, 2023 after being pushed back multiple times. Three models are expected to be offered, with EPA range estimates of 250–500 miles (400–800 km) and an estimated 0 to 60 mph time of 2.9–6.5 seconds, depending on the model.\n",
      "\n",
      "Page: Tesla Model 3\n",
      "Summary: The Tesla Model 3 is a battery electric  mid-size sedan with a fastback body style built by Tesla, Inc. since 2017. The Model 3 was marketed as being more affordable to more people than previous models by Tesla. The Model 3 was the world's top selling plug-in electric car for three years, from 2018 to 2020, before being knocked from the top spot by the Tesla Model Y, a crossover SUV based on the Model 3 chassis. In June 2021, the Model 3 became the first electric car to pass global sales of 1 million. A refresh of the Tesla Model 3 was introduced in 2023, offering a revised exterior and interior.\n",
      "\n",
      "Page: History of Tesla, Inc.\n",
      "Summary: This is the corporate history of Tesla, Inc., an electric vehicle manufacturer and clean energy company founded in San Carlos, California in 2003 by American entrepreneurs Martin Eberhard and Marc Tarpenning. The company is named after Serbian-American inventor Nikola Tesla. Tesla is the world's leading electric vehicle manufacturer, and, as of the end of 2021, Tesla's cumulative global vehicle sales totaled 2.3 million units.\n",
      "Page: Acquisition of Twitter by Elon Musk\n",
      "Summary: Business magnate Elon Musk initiated an acquisition of American social media company Twitter, Inc. on April 14, 2022, and concluded it on October 27, 2022. Musk had begun buying shares of the company in January 2022, becoming its largest shareholder by April with a 9.1 percent ownership stake. Twitter invited Musk to join its board of directors, an offer he initially accepted before declining. On April 14, Musk made an unsolicited offer to purchase the company, to which Twitter's board responded with a \"poison pill\" strategy to resist a hostile takeover before unanimously accepting Musk's buyout offer of $44 billion on April 25. Musk stated that he planned to introduce new features to the platform, make its algorithms open-source, combat spambot accounts, and promote free speech.\n",
      "In July, Musk announced his intention to terminate the agreement, asserting that Twitter had breached their agreement by refusing to crack down on spambot accounts. The company filed a lawsuit against Musk in the Delaware Court of Chancery shortly thereafter, with a trial scheduled for the week of October 17. Weeks before the trial was set to begin, Musk reversed course, announcing that he would move forward with the acquisition. The deal was closed on October 27, with Musk immediately becoming Twitter's new owner and CEO. Twitter was taken private and merged into a new parent company named X Corp. Musk promptly fired several top executives, including previous CEO Parag Agrawal. Musk has since proposed several reforms to Twitter and laid off half of the company's workforce. Hundreds of employees then resigned from the company after Musk issued an ultimatum demanding they commit to \"extremely hardcore\" work. Linda Yaccarino was appointed CEO of X Corp. In June 2023, the Twitter service was rebranded as X.\n",
      "Reactions to the buyout were mixed, with praise for Musk's planned reforms and vision for the company, particularly his calls for greater free speech, but criticism over fears of a potential rise in misinformation, disinformation, harassment, and hate speech on the platform. Within the United States, conservatives have largely supported the acquisition, while many liberals and former Twitter employees have voiced concerns about Musk's intentions. Since becoming owner, Musk has faced backlash for his handling of the company and account suspensions.\n",
      "\n",
      "Page: Views of Elon Musk\n",
      "Summary: Elon Musk, the CEO or owner of multiple companies including Tesla, SpaceX, and X Corp, has expressed many views on a wide variety of subjects, ranging from politics to science.\n",
      "Within the context of American politics, Musk has said he supported George W. Bush in 2004, Barack Obama in 2008 and 2012, Hillary Clinton in 2016, and Joe Biden in 2020. In 2022, Musk said he would start voting for Republican Party candidates. He has stated support for universal basic income, gun rights, freedom of speech, a tax on carbon emissions and opposes government subsidies. He is also a critic of short-selling.\n",
      "Musk has expressed concern about issues such as artificial intelligence (AI), climate change and population decline. He has also criticized COVID-19 lockdowns, public transportation, and labor unions. He has promoted conspiracy theories, and made controversial statements that have led to accusations of antisemitism and transphobia. His views on international relations, including on the China-Taiwan and Russia-Ukraine conflicts, have received mixed reactions.\n",
      "\n",
      "Page: Twitter under Elon Musk\n",
      "Summary: Elon Musk completed his acquisition of Twitter in October 2022; Musk acted as CEO of Twitter until he stepped down in June 2023 and was replaced by Linda Yaccarino. During that timespan, the company introduced a series of reforms and management changes. Musk reinstated a number of previously banned accounts, reduced the workforce by approximately 80%, closed one of Twitter's three data centers, largely eliminated the content moderation team \n",
      "\n",
      "Query: Can you summarize the investing thesis for Tesla?\n",
      "\n",
      "Tesla, Inc. is an American multinational automotive and clean energy company that designs and manufactures electric vehicles and related products and services. It is one of the world's most valuable companies and the most valuable automaker as of 2023. Tesla led the battery electric vehicle market in 2022 with an 18% share. The company's mission is to accelerate the world's transition to sustainable energy.\n",
      "\n",
      "Tesla's product line includes various models of electric cars, trucks, and energy storage devices. The Model 3, for instance, is the all-time bestselling plug-in electric car worldwide. Tesla's 2022 deliveries were around 1.31 million vehicles, a 40% increase over the previous year, and cumulative sales totaled 4 million cars as of April 2023.\n",
      "\n",
      "Tesla also offers an advanced driver-assistance system, Tesla Autopilot, which includes features like lane centering, traffic-aware cruise control, and semi-autonomous navigation. The company claims these features reduce accidents caused by driver negligence and fatigue.\n",
      "\n",
      "However, investing in Tesla also comes with risks. The company has faced lawsuits, government scrutiny, and criticism over issues like whistleblower retaliation, worker rights violations, product defects, and controversial statements by CEO Elon Musk. Furthermore, the company's valuation is high, which could impact future returns.\n",
      "\n",
      "Elon Musk's leadership is another factor to consider. Musk is known for his ambitious vision and has led multiple companies, including SpaceX and Twitter. His decisions and public statements can significantly influence Tesla's stock price.\n",
      "\n",
      "In summary, the investment thesis for Tesla revolves around its leadership in the electric vehicle and clean energy markets, its innovative technology, and the potential for significant growth as the world transitions to sustainable energy. However, potential investors should also consider the company's high valuation and the risks associated with its controversial CEO.\n"
     ]
    }
   ],
   "source": [
    "message = f\"\"\"\n",
    "Articles:\n",
    "\n",
    "{articles}\n",
    "\n",
    "Query: {query}\n",
    "\"\"\"\n",
    "print(message)\n",
    "messages = [\n",
    "    {\n",
    "        \"role\": \"system\",\n",
    "        \"content\": \"You generate answers to a query based on article content from wikipedia. Be concise. Add detail only where necessary, I'll let you be the judge of that. Never tell me that as an AI you can't provide advice. I know you are an AI so I don't make decisions directly from your advice\",\n",
    "    },\n",
    "    {\"role\": \"user\", \"content\": message},\n",
    "]\n",
    "completion = client.chat.completions.create(\n",
    "    model=GPT_MODEL,\n",
    "    messages=messages,\n",
    "    temperature=0,\n",
    ")\n",
    "print(completion.choices[0].message.content)"
   ]
  }
 ],
 "metadata": {
  "kernelspec": {
   "display_name": "Python 3 (ipykernel)",
   "language": "python",
   "name": "python3"
  },
  "language_info": {
   "codemirror_mode": {
    "name": "ipython",
    "version": 3
   },
   "file_extension": ".py",
   "mimetype": "text/x-python",
   "name": "python",
   "nbconvert_exporter": "python",
   "pygments_lexer": "ipython3",
   "version": "3.11.6"
  }
 },
 "nbformat": 4,
 "nbformat_minor": 5
}
